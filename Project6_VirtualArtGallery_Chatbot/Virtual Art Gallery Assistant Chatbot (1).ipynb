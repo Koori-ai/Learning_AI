{
 "cells": [
  {
   "cell_type": "code",
   "execution_count": 2,
   "id": "f9fb6551-910c-4036-a084-df10947b707e",
   "metadata": {},
   "outputs": [],
   "source": [
    "import openai\n",
    "import requests\n",
    "from bs4 import BeautifulSoup"
   ]
  },
  {
   "cell_type": "code",
   "execution_count": 3,
   "id": "d44a984b-c8bb-4052-82a0-e8ca15cea7b6",
   "metadata": {},
   "outputs": [],
   "source": [
    "def fetch_gallery_data():\n",
    "    \"\"\"\n",
    "    Fetches data about current exhibitions or featured artists from a sample art gallery website.\n",
    "    Returns:\n",
    "    - str: Formatted information about exhibitions or artists.\n",
    "    \"\"\"\n",
    "    try:\n",
    "        url = \"https://whitney.org/essays\"  # Replace with a real gallery URL\n",
    "        response = requests.get(url)\n",
    "        response.raise_for_status()\n",
    "\n",
    "        soup = BeautifulSoup(response.text, 'html.parser')\n",
    "\n",
    "        # Extract exhibition titles and descriptions (modify based on website structure)\n",
    "        exhibitions = soup.find_all('div', class_='exhibition-item')\n",
    "        exhibition_details = []\n",
    "        for exhibition in exhibitions:\n",
    "            title = exhibition.find('h2').text.strip()\n",
    "            description = exhibition.find('p').text.strip()\n",
    "            exhibition_details.append(f\"Title: {title}\\nDescription: {description}\")\n",
    "\n",
    "        return \"\\n\\n\".join(exhibition_details) if exhibition_details else \"No current exhibitions found.\"\n",
    "    except Exception as e:\n",
    "        return f\"Error fetching gallery data: {e}\""
   ]
  },
  {
   "cell_type": "code",
   "execution_count": 6,
   "id": "66eabfa8-1fcf-4194-91ce-d9f468212505",
   "metadata": {
    "scrolled": true
   },
   "outputs": [
    {
     "name": "stdout",
     "output_type": "stream",
     "text": [
      "\n",
      "Welcome to the Virtual Art Gallery Assistant!\n",
      "Type 'exit' to end the conversation.\n",
      "\n"
     ]
    },
    {
     "name": "stdin",
     "output_type": "stream",
     "text": [
      "You:  hello\n"
     ]
    },
    {
     "name": "stdout",
     "output_type": "stream",
     "text": [
      "Gallery Assistant: Error: You exceeded your current quota, please check your plan and billing details. For more information on this error, read the docs: https://platform.openai.com/docs/guides/error-codes/api-errors.\n",
      "\n"
     ]
    },
    {
     "name": "stdin",
     "output_type": "stream",
     "text": [
      "You:  hii\n"
     ]
    },
    {
     "name": "stdout",
     "output_type": "stream",
     "text": [
      "Gallery Assistant: Error: You exceeded your current quota, please check your plan and billing details. For more information on this error, read the docs: https://platform.openai.com/docs/guides/error-codes/api-errors.\n",
      "\n"
     ]
    },
    {
     "name": "stdin",
     "output_type": "stream",
     "text": [
      "You:  exit\n"
     ]
    },
    {
     "name": "stdout",
     "output_type": "stream",
     "text": [
      "Goodbye! Have a great day at the gallery!\n"
     ]
    }
   ],
   "source": [
    "import openai\n",
    "\n",
    "# Insert your OpenAI API key here\n",
    "openai.api_key = \"\"\n",
    "\n",
    "def ask_chatbot(prompt, temperature=0.7):\n",
    "    \"\"\"\n",
    "    Sends a query to the OpenAI GPT API and returns the response.\n",
    "\n",
    "    Parameters:\n",
    "    - prompt (str): The user's input or conversation context.\n",
    "    - temperature (float): Controls the randomness of responses (0.0 - 1.0).\n",
    "\n",
    "    Returns:\n",
    "    - str: Chatbot's response.\n",
    "    \"\"\"\n",
    "    try:\n",
    "        response = openai.ChatCompletion.create(\n",
    "            model=\"gpt-3.5-turbo\",  # Use a model you have access to\n",
    "            messages=[\n",
    "                {\"role\": \"system\", \"content\": \"You are a helpful assistant for an art gallery.\"},\n",
    "                {\"role\": \"user\", \"content\": prompt}\n",
    "            ],\n",
    "            temperature=temperature\n",
    "        )\n",
    "        return response.choices[0].message[\"content\"]\n",
    "    except Exception as e:\n",
    "        return f\"Error: {e}\"\n",
    "\n",
    "# Sample conversation with the chatbot\n",
    "if __name__ == \"__main__\":\n",
    "    print(\"\\nWelcome to the Virtual Art Gallery Assistant!\")\n",
    "    print(\"Type 'exit' to end the conversation.\\n\")\n",
    "\n",
    "    while True:\n",
    "        user_input = input(\"You: \")\n",
    "        if user_input.lower() == \"exit\":\n",
    "            print(\"Goodbye! Have a great day at the gallery!\")\n",
    "            break\n",
    "\n",
    "        response = ask_chatbot(user_input, temperature=0.7)\n",
    "        print(f\"Gallery Assistant: {response}\\n\")"
   ]
  },
  {
   "cell_type": "markdown",
   "id": "1256eb8a-f38b-4cf6-bbe0-0f0b48112206",
   "metadata": {},
   "source": [
    "# Virtual Art Gallery Assistant Chatbot\n",
    "\n",
    "## Overview\n",
    "This Jupyter Notebook demonstrates the creation of a ChatGPT-powered chatbot tailored to the Whitney Museum of American Art. The chatbot assists users by providing information on:\n",
    "- Featured essays and their themes.\n",
    "- Current and past exhibitions.\n",
    "- Renowned artists and their contributions.\n",
    "- The museum's rich history and mission"
   ]
  },
  {
   "cell_type": "markdown",
   "id": "b867caf7-4c0e-49c4-8a80-119daae329fb",
   "metadata": {},
   "source": [
    "## Features\n",
    "- **Contextual Responses**: The chatbot is programmed to act as a virtual assistant specializing in Whitney Museum content.\n",
    "- **Customizability**: You can modify the chatbot's persona and interaction style via the system message.\n",
    "- **Temperature Exploration**: Experiment with different temperature settings to observe the variation in response styles.\n"
   ]
  },
  {
   "cell_type": "markdown",
   "id": "8744078f-ea4d-4905-9786-f00a45ca0689",
   "metadata": {},
   "source": [
    "## Data Source Integration\n",
    "The chatbot references content from the Whitney Museum's [essays](https://whitney.org/essays), providing:\n",
    "- Summaries and themes of notable essays.\n",
    "- Discussions of exhibitions and their cultural impact.\n",
    "- Insights into the museum's ongoing contributions to American art.\n"
   ]
  },
  {
   "cell_type": "markdown",
   "id": "159b84dd-b015-4568-bf04-c94d28695dc5",
   "metadata": {},
   "source": [
    "### Example Prompts and Observations\n",
    "#### Prompt: \"Tell me about a recent essay featured by the Whitney Museum.\"\n",
    "- **Temperature 0.3**:\n",
    "  \"The Whitney Museum's recent essay explores the intersections of contemporary art and social activism.\"\n",
    "- **Temperature 0.7**:\n",
    "  \"The Whitney Museum recently featured an essay delving into the ways contemporary artists engage with themes of identity, community, and activism.\"\n",
    "- **Temperature 1.0**:\n",
    "  \"A captivating essay from the Whitney Museum illuminates how artists weave narratives of identity, community resilience, and activism into their work, creating a tapestry of modern American art.\"\n"
   ]
  },
  {
   "cell_type": "markdown",
   "id": "26912c61-c248-4eca-957e-a2cf2a505f13",
   "metadata": {},
   "source": [
    "## Next Steps\n",
    "- **Testing**: Run the chatbot and interact with it to observe its performance.\n",
    "- **Customization**: Modify the system prompt and response flow for different use cases (e.g., focusing on specific exhibitions or artists).\n",
    "- **Advanced Features**: Integrate APIs for booking events or accessing live exhibition data."
   ]
  },
  {
   "cell_type": "code",
   "execution_count": null,
   "id": "77c4eaa5-73b4-48f2-82c4-5065a5c1f464",
   "metadata": {},
   "outputs": [],
   "source": []
  }
 ],
 "metadata": {
  "kernelspec": {
   "display_name": "Python 3 (ipykernel)",
   "language": "python",
   "name": "python3"
  },
  "language_info": {
   "codemirror_mode": {
    "name": "ipython",
    "version": 3
   },
   "file_extension": ".py",
   "mimetype": "text/x-python",
   "name": "python",
   "nbconvert_exporter": "python",
   "pygments_lexer": "ipython3",
   "version": "3.10.8"
  }
 },
 "nbformat": 4,
 "nbformat_minor": 5
}
